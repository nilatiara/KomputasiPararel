{
  "nbformat": 4,
  "nbformat_minor": 0,
  "metadata": {
    "colab": {
      "provenance": [],
      "authorship_tag": "ABX9TyMingheKK5gcqOooq0AZ0gq",
      "include_colab_link": true
    },
    "kernelspec": {
      "name": "python3",
      "display_name": "Python 3"
    },
    "language_info": {
      "name": "python"
    }
  },
  "cells": [
    {
      "cell_type": "markdown",
      "metadata": {
        "id": "view-in-github",
        "colab_type": "text"
      },
      "source": [
        "<a href=\"https://colab.research.google.com/github/nilatiara/KomputasiPararel/blob/main/ModelTraining.ipynb\" target=\"_parent\"><img src=\"https://colab.research.google.com/assets/colab-badge.svg\" alt=\"Open In Colab\"/></a>"
      ]
    },
    {
      "cell_type": "code",
      "execution_count": 4,
      "metadata": {
        "colab": {
          "base_uri": "https://localhost:8080/"
        },
        "id": "azcdqGO3bWU8",
        "outputId": "c2626240-ee74-48a2-e720-88205b60a6f5"
      },
      "outputs": [
        {
          "output_type": "stream",
          "name": "stdout",
          "text": [
            "Models and encoders saved successfully.\n"
          ]
        }
      ],
      "source": [
        "# Import libraries\n",
        "import pandas as pd\n",
        "from sklearn.model_selection import train_test_split\n",
        "from sklearn.ensemble import RandomForestClassifier, RandomForestRegressor\n",
        "from sklearn.preprocessing import LabelEncoder\n",
        "import joblib\n",
        "\n",
        "# Load the dataset\n",
        "data = pd.read_csv('predic_tabel.csv')\n",
        "\n",
        "# Remove unnecessary columns\n",
        "data_cleaned = data.drop(columns=['No'])\n",
        "\n",
        "# Encode categorical columns\n",
        "label_encoders = {}\n",
        "for column in data_cleaned.columns:\n",
        "    if data_cleaned[column].dtype == 'object':\n",
        "        le = LabelEncoder()\n",
        "        data_cleaned[column] = le.fit_transform(data_cleaned[column])\n",
        "        label_encoders[column] = le\n",
        "\n",
        "# Separate features and target\n",
        "X = data_cleaned.drop('Hasil', axis=1)\n",
        "y_classification = data_cleaned['Hasil']\n",
        "\n",
        "# For regression, creating a hypothetical target variable\n",
        "y_regression = y_classification + 0.5 * (X['Usia'] + X['Merokok'])\n",
        "\n",
        "# Split data into training and test sets\n",
        "X_train, X_test, y_train_class, y_test_class = train_test_split(X, y_classification, test_size=0.2, random_state=42)\n",
        "_, _, y_train_reg, y_test_reg = train_test_split(X, y_regression, test_size=0.2, random_state=42)\n",
        "\n",
        "# Train the RandomForest model for classification\n",
        "classifier = RandomForestClassifier(random_state=42)\n",
        "classifier.fit(X_train, y_train_class)\n",
        "\n",
        "# Train the RandomForest model for regression\n",
        "regressor = RandomForestRegressor(random_state=42)\n",
        "regressor.fit(X_train, y_train_reg)\n",
        "\n",
        "# Save both models\n",
        "joblib.dump(classifier, 'classifier_model.pkl')\n",
        "joblib.dump(regressor, 'regressor_model.pkl')\n",
        "\n",
        "# Save label encoders\n",
        "joblib.dump(label_encoders, 'label_encoders.pkl')\n",
        "\n",
        "print(\"Models and encoders saved successfully.\")\n"
      ]
    }
  ]
}